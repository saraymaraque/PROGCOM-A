{
  "nbformat": 4,
  "nbformat_minor": 0,
  "metadata": {
    "colab": {
      "provenance": []
    },
    "kernelspec": {
      "name": "python3",
      "display_name": "Python 3"
    },
    "language_info": {
      "name": "python"
    }
  },
  "cells": [
    {
      "cell_type": "code",
      "execution_count": 1,
      "metadata": {
        "id": "1L7bYaM_P_KH"
      },
      "outputs": [],
      "source": [
        "class auto:\n",
        "  def mover (self):\n",
        "    print (\"el auto avanza por la carrera\")\n",
        "\n",
        "class bicicleta:\n",
        "  def mover (self):\n",
        "   print (\"el bicicleta avanza por la carrera\")\n",
        "\n",
        "class avión:\n",
        "  def mover (self):\n",
        "   print (\"el avión avanza por la carrera\")"
      ]
    },
    {
      "cell_type": "code",
      "source": [
        "vehículo = [auto(),bicicleta (),avión()]\n",
        "\n",
        "for v in vehículo:\n",
        "  v.mover()"
      ],
      "metadata": {
        "colab": {
          "base_uri": "https://localhost:8080/"
        },
        "id": "Mv5K8qY1QnxX",
        "outputId": "5ade9a91-11b0-43a7-9309-35a3fcf1297b"
      },
      "execution_count": 2,
      "outputs": [
        {
          "output_type": "stream",
          "name": "stdout",
          "text": [
            "el auto avanza por la carrera\n",
            "el bicicleta avanza por la carrera\n",
            "el avión avanza por la carrera\n"
          ]
        }
      ]
    }
  ]
}