{
  "nbformat": 4,
  "nbformat_minor": 0,
  "metadata": {
    "colab": {
      "provenance": []
    },
    "kernelspec": {
      "name": "python3",
      "display_name": "Python 3"
    },
    "language_info": {
      "name": "python"
    }
  },
  "cells": [
    {
      "cell_type": "code",
      "execution_count": 1,
      "metadata": {
        "colab": {
          "base_uri": "https://localhost:8080/"
        },
        "id": "HyQE3_0gMg_8",
        "outputId": "bfa819b9-eeff-4694-f1fb-41ea2ba35c07"
      },
      "outputs": [
        {
          "name": "stdout",
          "output_type": "stream",
          "text": [
            "Ingrese su nombre: Saray \n",
            "Ingrese su peso en kg: 60.8\n",
            "Ingrese su altura en metros: 1.69\n",
            "Saray , tu IMC es 21.29 y tu categoría es Normal\n",
            "¿Desea calcular otro IMC? (s/n): n\n"
          ]
        }
      ],
      "source": [
        "# 11. Índice de Masa Corporal (IMC)\n",
        "while True:\n",
        "    nombre = input(\"Ingrese su nombre: \")\n",
        "    peso = float(input(\"Ingrese su peso en kg: \"))\n",
        "    altura = float(input(\"Ingrese su altura en metros: \"))\n",
        "    imc = peso / (altura ** 2)\n",
        "\n",
        "    if imc < 18.5:\n",
        "        categoria = \"Bajo peso\"\n",
        "    elif 18.5 <= imc < 25:\n",
        "        categoria = \"Normal\"\n",
        "    elif 25 <= imc < 30:\n",
        "        categoria = \"Sobrepeso\"\n",
        "    else:\n",
        "        categoria = \"Obesidad\"\n",
        "\n",
        "    print(f\"{nombre}, tu IMC es {imc:.2f} y tu categoría es {categoria}\")\n",
        "\n",
        "    continuar = input(\"¿Desea calcular otro IMC? (s/n): \")\n",
        "    if continuar.lower() != 's':\n",
        "        break"
      ]
    },
    {
      "cell_type": "code",
      "source": [
        "# 12. Calculadora simple\n",
        "while True:\n",
        "    num1 = float(input(\"Ingrese el primer número: \"))\n",
        "    num2 = float(input(\"Ingrese el segundo número: \"))\n",
        "    operacion = input(\"Ingrese la operación (+, -, *, /): \")\n",
        "\n",
        "    if operacion == '+':\n",
        "        resultado = num1 + num2\n",
        "    elif operacion == '-':\n",
        "        resultado = num1 - num2\n",
        "    elif operacion == '*':\n",
        "        resultado = num1 * num2\n",
        "    elif operacion == '/' and num2 != 0:\n",
        "        resultado = num1 / num2\n",
        "    else:\n",
        "        resultado = \"Operación inválida\"\n",
        "\n",
        "    print(f\"Resultado: {resultado}\")\n",
        "\n",
        "    continuar = input(\"¿Desea realizar otra operación? (s/n): \")\n",
        "    if continuar.lower() != 's':\n",
        "        break"
      ],
      "metadata": {
        "colab": {
          "base_uri": "https://localhost:8080/"
        },
        "id": "OG0CtnYbMon2",
        "outputId": "663f0784-4147-4bcd-dc43-fac29cb986cd"
      },
      "execution_count": 2,
      "outputs": [
        {
          "name": "stdout",
          "output_type": "stream",
          "text": [
            "Ingrese el primer número: 1\n",
            "Ingrese el segundo número: 2\n",
            "Ingrese la operación (+, -, *, /): +\n",
            "Resultado: 3.0\n",
            "¿Desea realizar otra operación? (s/n): n\n"
          ]
        }
      ]
    },
    {
      "cell_type": "code",
      "source": [
        "# 13. Calificación en letras\n",
        "while True:\n",
        "    nota = int(input(\"Ingrese una nota (0-100): \"))\n",
        "    if 90 <= nota <= 100:\n",
        "        calificacion = \"A\"\n",
        "    elif 80 <= nota < 90:\n",
        "        calificacion = \"B\"\n",
        "    elif 70 <= nota < 80:\n",
        "        calificacion = \"C\"\n",
        "    elif 60 <= nota < 70:\n",
        "        calificacion = \"D\"\n",
        "    else:\n",
        "        calificacion = \"F\"\n",
        "\n",
        "    print(f\"Calificación en letras: {calificacion}\")\n",
        "\n",
        "    continuar = input(\"¿Desea evaluar otra nota? (s/n): \")\n",
        "    if continuar.lower() != 's':\n",
        "        break"
      ],
      "metadata": {
        "colab": {
          "base_uri": "https://localhost:8080/"
        },
        "id": "mTgUPa0YMsVF",
        "outputId": "cd8a436b-bbc1-447a-a050-85d5da75794c"
      },
      "execution_count": 3,
      "outputs": [
        {
          "name": "stdout",
          "output_type": "stream",
          "text": [
            "Ingrese una nota (0-100): 50\n",
            "Calificación en letras: F\n",
            "¿Desea evaluar otra nota? (s/n): n\n"
          ]
        }
      ]
    },
    {
      "cell_type": "code",
      "source": [
        "# 14. Día de la semana según número\n",
        "dias = [\"Lunes\", \"Martes\", \"Miércoles\", \"Jueves\", \"Viernes\", \"Sábado\", \"Domingo\"]\n",
        "while True:\n",
        "    num = int(input(\"Ingrese un número (1-7): \"))\n",
        "    if 1 <= num <= 7:\n",
        "        print(f\"El día de la semana es: {dias[num - 1]}\")\n",
        "    else:\n",
        "        print(\"Número inválido, intente de nuevo.\")\n",
        "\n",
        "    continuar = input(\"¿Desea verificar otro día? (s/n): \")\n",
        "    if continuar.lower() != 's':\n",
        "        break"
      ],
      "metadata": {
        "colab": {
          "base_uri": "https://localhost:8080/"
        },
        "id": "6wKBhIxUMwCe",
        "outputId": "1a40bc23-bdc9-4d7e-a571-944ea66301ca"
      },
      "execution_count": 4,
      "outputs": [
        {
          "name": "stdout",
          "output_type": "stream",
          "text": [
            "Ingrese un número (1-7): 5\n",
            "El día de la semana es: Viernes\n",
            "¿Desea verificar otro día? (s/n): n\n"
          ]
        }
      ]
    },
    {
      "cell_type": "code",
      "source": [
        "\n",
        "# 15. Validar si tres números forman un triángulo\n",
        "while True:\n",
        "    a = float(input(\"Ingrese el primer lado: \"))\n",
        "    b = float(input(\"Ingrese el segundo lado: \"))\n",
        "    c = float(input(\"Ingrese el tercer lado: \"))\n",
        "\n",
        "    if a + b > c and a + c > b and b + c > a:\n",
        "        print(\"Los valores pueden formar un triángulo.\")\n",
        "        if a == b == c:\n",
        "            print(\"Es un triángulo equilátero.\")\n",
        "        elif a == b or a == c or b == c:\n",
        "            print(\"Es un triángulo isósceles.\")\n",
        "        else:\n",
        "            print(\"Es un triángulo escaleno.\")\n",
        "    else:\n",
        "        print(\"Los valores no forman un triángulo.\")\n",
        "\n",
        "    continuar = input(\"¿Desea ingresar otros lados? (s/n): \")\n",
        "    if continuar.lower() != 's':\n",
        "        break"
      ],
      "metadata": {
        "colab": {
          "base_uri": "https://localhost:8080/"
        },
        "id": "_1nViAMsMyI1",
        "outputId": "01b6d0d9-caff-4992-ec5e-0685aef302be"
      },
      "execution_count": 11,
      "outputs": [
        {
          "name": "stdout",
          "output_type": "stream",
          "text": [
            "Ingrese el primer lado: 1\n",
            "Ingrese el segundo lado: 2\n",
            "Ingrese el tercer lado: 3\n",
            "Los valores no forman un triángulo.\n",
            "¿Desea ingresar otros lados? (s/n): n\n"
          ]
        }
      ]
    },
    {
      "cell_type": "code",
      "source": [
        "# 16. Tabla de multiplicar\n",
        "num = int(input(\"Ingrese un número: \"))\n",
        "for i in range(1, 11):\n",
        "    print(f\"{num} x {i} = {num * i}\")"
      ],
      "metadata": {
        "colab": {
          "base_uri": "https://localhost:8080/"
        },
        "id": "NhdEa8aJM0jd",
        "outputId": "9ac115ed-d9fd-48a3-8929-10622cc77fcc"
      },
      "execution_count": 12,
      "outputs": [
        {
          "output_type": "stream",
          "name": "stdout",
          "text": [
            "Ingrese un número: 6\n",
            "6 x 1 = 6\n",
            "6 x 2 = 12\n",
            "6 x 3 = 18\n",
            "6 x 4 = 24\n",
            "6 x 5 = 30\n",
            "6 x 6 = 36\n",
            "6 x 7 = 42\n",
            "6 x 8 = 48\n",
            "6 x 9 = 54\n",
            "6 x 10 = 60\n"
          ]
        }
      ]
    },
    {
      "cell_type": "code",
      "source": [
        "# 17. Suma de números naturales hasta n\n",
        "n = int(input(\"Ingrese un número: \"))\n",
        "suma = sum(range(1, n + 1))\n",
        "print(f\"La suma de los primeros {n} números naturales es {suma}\")\n"
      ],
      "metadata": {
        "colab": {
          "base_uri": "https://localhost:8080/"
        },
        "id": "n84q1WsoM-0N",
        "outputId": "533bfd39-9fcf-4e36-99a5-a111f604611b"
      },
      "execution_count": 13,
      "outputs": [
        {
          "output_type": "stream",
          "name": "stdout",
          "text": [
            "Ingrese un número: 2\n",
            "La suma de los primeros 2 números naturales es 3\n"
          ]
        }
      ]
    },
    {
      "cell_type": "code",
      "source": [
        "# 18. Factorial de un número\n",
        "n = int(input(\"Ingrese un número para calcular su factorial: \"))\n",
        "factorial = 1\n",
        "for i in range(1, n + 1):\n",
        "    factorial *= i\n",
        "print(f\"El factorial de {n} es {factorial}\")\n"
      ],
      "metadata": {
        "colab": {
          "base_uri": "https://localhost:8080/"
        },
        "id": "QZ-lzbXSM_ad",
        "outputId": "64fe09e2-0ea8-41ab-d925-dce7d5d0a59f"
      },
      "execution_count": 14,
      "outputs": [
        {
          "output_type": "stream",
          "name": "stdout",
          "text": [
            "Ingrese un número para calcular su factorial: 22\n",
            "El factorial de 22 es 1124000727777607680000\n"
          ]
        }
      ]
    },
    {
      "cell_type": "code",
      "source": [
        "# 19. Números de Fibonacci\n",
        "n = int(input(\"Ingrese la cantidad de números de la serie Fibonacci a mostrar: \"))\n",
        "a, b = 0, 1\n",
        "for _ in range(n):\n",
        "    print(a, end=\" \")\n",
        "    a, b = b, a + b\n",
        "print()"
      ],
      "metadata": {
        "colab": {
          "base_uri": "https://localhost:8080/"
        },
        "id": "DFVMIzzHNBJV",
        "outputId": "c469278f-029f-4bd8-ccec-1bc068127a80"
      },
      "execution_count": 15,
      "outputs": [
        {
          "output_type": "stream",
          "name": "stdout",
          "text": [
            "Ingrese la cantidad de números de la serie Fibonacci a mostrar: 2\n",
            "0 1 \n"
          ]
        }
      ]
    },
    {
      "cell_type": "code",
      "source": [],
      "metadata": {
        "id": "UQ6ASOcGNF1d"
      },
      "execution_count": null,
      "outputs": []
    },
    {
      "cell_type": "code",
      "source": [
        "\n",
        "# 20. Adivinar un número\n",
        "import random\n",
        "num_secreto = random.randint(1, 10)\n",
        "intentos = 0\n",
        "while intentos < 10:\n",
        "    intento = int(input(\"Adivina el número (1-10): \"))\n",
        "    intentos += 1\n",
        "    if intento == num_secreto:\n",
        "        print(\"¡Felicidades! Adivinaste el número.\")\n",
        "        break\n",
        "    else:\n",
        "        print(\"Número incorrecto, intenta de nuevo.\")\n",
        "print(f\"El número era {num_secreto}\")"
      ],
      "metadata": {
        "colab": {
          "base_uri": "https://localhost:8080/"
        },
        "id": "LIuaHB96NCtV",
        "outputId": "5af9933a-f22b-43ea-e2fe-f98b230eef54"
      },
      "execution_count": 16,
      "outputs": [
        {
          "output_type": "stream",
          "name": "stdout",
          "text": [
            "Adivina el número (1-10): 10\n",
            "Número incorrecto, intenta de nuevo.\n",
            "Adivina el número (1-10): 5\n",
            "Número incorrecto, intenta de nuevo.\n",
            "Adivina el número (1-10): 2\n",
            "Número incorrecto, intenta de nuevo.\n",
            "Adivina el número (1-10): 8\n",
            "¡Felicidades! Adivinaste el número.\n",
            "El número era 8\n"
          ]
        }
      ]
    }
  ]
}