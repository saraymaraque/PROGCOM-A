{
  "nbformat": 4,
  "nbformat_minor": 0,
  "metadata": {
    "colab": {
      "provenance": []
    },
    "kernelspec": {
      "name": "python3",
      "display_name": "Python 3"
    },
    "language_info": {
      "name": "python"
    }
  },
  "cells": [
    {
      "cell_type": "code",
      "execution_count": 10,
      "metadata": {
        "id": "fXjeuNKzNG74"
      },
      "outputs": [],
      "source": [
        "#Punto 15\n",
        "def validar_triangulo(a, b, c):\n",
        "    triangulo = {\n",
        "        \"lados\": (a, b, c),\n",
        "        \"es_triangulo\": (a + b > c and a + c > b and b + c > a)\n",
        "    }\n",
        "\n",
        "    if triangulo[\"es_triangulo\"]:\n",
        "        if a == b == c:\n",
        "            triangulo[\"tipo\"] = \"Equilátero\"\n",
        "        elif a == b or a == c or b == c:\n",
        "            triangulo[\"tipo\"] = \"Isósceles\"\n",
        "        else:\n",
        "            triangulo[\"tipo\"] = \"Escaleno\"\n",
        "    else:\n",
        "        triangulo[\"tipo\"] = \"No es un triángulo\"\n",
        "\n",
        "    return triangulo\n"
      ]
    },
    {
      "cell_type": "code",
      "source": [
        "#Punto 16\n",
        "def tabla_multiplicar(n):\n",
        "    return {\"tabla\": {i: n * i for i in range(1, 11)}}"
      ],
      "metadata": {
        "id": "dp3THDKZNb6Z"
      },
      "execution_count": 11,
      "outputs": []
    },
    {
      "cell_type": "code",
      "source": [
        "#Punto 17\n",
        "def suma_naturales(n):\n",
        "    return {\"suma\": sum(range(1, n + 1))}"
      ],
      "metadata": {
        "id": "jUtfzkLMNiUX"
      },
      "execution_count": 12,
      "outputs": []
    },
    {
      "cell_type": "code",
      "source": [
        "#Punto 18\n",
        "def factorial(n):\n",
        "    resultado = 1\n",
        "    for i in range(2, n + 1):\n",
        "        resultado *= i\n",
        "    return {\"factorial\": resultado}"
      ],
      "metadata": {
        "id": "4LFH-2G7Nol4"
      },
      "execution_count": 13,
      "outputs": []
    },
    {
      "cell_type": "code",
      "source": [
        "#Punto 19\n",
        "def fibonacci(n):\n",
        "    fib = {0: 0, 1: 1}\n",
        "    for i in range(2, n):\n",
        "        fib[i] = fib[i - 1] + fib[i - 2]\n",
        "    return {\"fibonacci\": list(fib.values())}\n",
        ""
      ],
      "metadata": {
        "id": "NNl-BIbLNtz4"
      },
      "execution_count": 14,
      "outputs": []
    },
    {
      "cell_type": "code",
      "source": [
        "#Punto 20\n",
        "import random\n",
        "\n",
        "def adivina_numero():\n",
        "    numero_secreto = random.randint(1, 100)\n",
        "    intentos = {}\n",
        "\n",
        "    for i in range(1, 11):\n",
        "        intentos[i] = int(input(f\"Intento {i}: Adivina el número (1-100): \"))\n",
        "        if intentos[i] == numero_secreto:\n",
        "            return {\"resultado\": \"¡Adivinaste!\", \"intentos\": intentos}\n",
        "\n",
        "    return {\"resultado\": \"No adivinaste\", \"numero_secreto\": numero_secreto, \"intentos\": intentos}"
      ],
      "metadata": {
        "id": "Vfw0JIezN7PQ"
      },
      "execution_count": 15,
      "outputs": []
    },
    {
      "cell_type": "code",
      "source": [
        "#Punto 21\n",
        "def pares():\n",
        "    return {\"pares\": [i for i in range(2, 101, 2)]}"
      ],
      "metadata": {
        "id": "On_rkIjROAzY"
      },
      "execution_count": 16,
      "outputs": []
    },
    {
      "cell_type": "code",
      "source": [
        "#Punto 22\n",
        "def suma_digitos(n):\n",
        "    return {\"suma_digitos\": sum(int(d) for d in str(n))}"
      ],
      "metadata": {
        "id": "A-IftcJ_OO4w"
      },
      "execution_count": 17,
      "outputs": []
    },
    {
      "cell_type": "code",
      "source": [
        "#Punto 23\n",
        "def es_primo(n):\n",
        "    if n < 2:\n",
        "        return {\"primo\": False}\n",
        "    for i in range(2, int(n ** 0.5) + 1):\n",
        "        if n % i == 0:\n",
        "            return {\"primo\": False}\n",
        "    return {\"primo\": True}"
      ],
      "metadata": {
        "id": "fQ0p-gmTOTmQ"
      },
      "execution_count": 18,
      "outputs": []
    },
    {
      "cell_type": "code",
      "source": [
        "#Punto 24\n",
        "def triangulo_asteriscos(n):\n",
        "    return {\"triangulo\": [\"*\" * i for i in range(1, n + 1)]}\n",
        ""
      ],
      "metadata": {
        "id": "HbWgVqZjOYDo"
      },
      "execution_count": 19,
      "outputs": []
    },
    {
      "cell_type": "code",
      "source": [
        "#Punto 25\n",
        "def potencia(base, exponente):\n",
        "    resultado = 1\n",
        "    for _ in range(exponente):\n",
        "        resultado *= base\n",
        "    return {\"potencia\": resultado}"
      ],
      "metadata": {
        "id": "fCEK4FBnOcro"
      },
      "execution_count": 20,
      "outputs": []
    }
  ]
}