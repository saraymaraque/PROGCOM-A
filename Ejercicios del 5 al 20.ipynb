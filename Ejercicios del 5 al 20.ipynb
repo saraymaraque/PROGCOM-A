{
  "nbformat": 4,
  "nbformat_minor": 0,
  "metadata": {
    "colab": {
      "provenance": []
    },
    "kernelspec": {
      "name": "python3",
      "display_name": "Python 3"
    },
    "language_info": {
      "name": "python"
    }
  },
  "cells": [
    {
      "cell_type": "code",
      "execution_count": 22,
      "metadata": {
        "id": "uy_LODK4GDVO"
      },
      "outputs": [],
      "source": [
        "import math\n",
        "\n",
        "def resolver_ecuacion_cuadratica(a, b, c):  # Con parámetros y con retorno\n",
        "    discriminante = b**2 - 4*a*c\n",
        "    if discriminante < 0:\n",
        "        return \"No tiene soluciones reales\"\n",
        "    x1 = (-b + math.sqrt(discriminante)) / (2*a)\n",
        "    x2 = (-b - math.sqrt(discriminante)) / (2*a)\n",
        "    return x1, x2"
      ]
    },
    {
      "cell_type": "code",
      "source": [
        "def es_par_o_impar(numero):  # Con parámetro y con retorno\n",
        "    return \"Par\" if numero % 2 == 0 else \"Impar\""
      ],
      "metadata": {
        "id": "bRwoZOF4IAQC"
      },
      "execution_count": 21,
      "outputs": []
    },
    {
      "cell_type": "code",
      "source": [
        "def es_bisiesto(anio):  # Con parámetro y con retorno\n",
        "    return (anio % 4 == 0 and anio % 100 != 0) or (anio % 400 == 0)\n"
      ],
      "metadata": {
        "id": "IU76O_y0IDrS"
      },
      "execution_count": 20,
      "outputs": []
    },
    {
      "cell_type": "code",
      "source": [
        "def es_tercera_edad(edad):  # Con parámetro y con retorno\n",
        "    return edad >= 70\n"
      ],
      "metadata": {
        "id": "z7dzNMy_ILfK"
      },
      "execution_count": 19,
      "outputs": []
    },
    {
      "cell_type": "code",
      "source": [
        "def numero_mayor(n1, n2, n3):  # Con parámetros y con retorno\n",
        "    return max(n1, n2, n3)"
      ],
      "metadata": {
        "id": "ZeaFu2VcINep"
      },
      "execution_count": 18,
      "outputs": []
    },
    {
      "cell_type": "code",
      "source": [
        "def tipo_triangulo(l1, l2, l3):  # Con parámetros y con retorno\n",
        "    if l1 == l2 == l3:\n",
        "        return \"Equilátero\"\n",
        "    elif l1 == l2 or l1 == l3 or l2 == l3:\n",
        "        return \"Isósceles\"\n",
        "    else:\n",
        "        return \"Escaleno\""
      ],
      "metadata": {
        "id": "gOSA5umrIPsB"
      },
      "execution_count": 17,
      "outputs": []
    },
    {
      "cell_type": "code",
      "source": [
        "def calcular_imc(peso, altura):  # Con parámetros y con retorno\n",
        "    imc = peso / (altura ** 2)\n",
        "    if imc < 18.5:\n",
        "        categoria = \"Bajo peso\"\n",
        "    elif imc < 24.9:\n",
        "        categoria = \"Normal\"\n",
        "    elif imc < 29.9:\n",
        "        categoria = \"Sobrepeso\"\n",
        "    else:\n",
        "        categoria = \"Obesidad\"\n",
        "    return imc, categoria"
      ],
      "metadata": {
        "id": "ycWadihkISLR"
      },
      "execution_count": 16,
      "outputs": []
    },
    {
      "cell_type": "code",
      "source": [
        "def calculadora(a, b, operacion):  # Con parámetros y con retorno\n",
        "    if operacion == '+':\n",
        "        return a + b\n",
        "    elif operacion == '-':\n",
        "        return a - b\n",
        "    elif operacion == '*':\n",
        "        return a * b\n",
        "    elif operacion == '/':\n",
        "        return a / b if b != 0 else \"Error: División por cero\"\n",
        "    else:\n",
        "        return \"Operación no válida\""
      ],
      "metadata": {
        "id": "LGKcWJ5EIVNi"
      },
      "execution_count": 15,
      "outputs": []
    },
    {
      "cell_type": "code",
      "source": [
        "def calificacion_letra(nota):  # Con parámetro y con retorno\n",
        "    if nota >= 90:\n",
        "        return \"A\"\n",
        "    elif nota >= 80:\n",
        "        return \"B\"\n",
        "    elif nota >= 70:\n",
        "        return \"C\"\n",
        "    elif nota >= 60:\n",
        "        return \"D\"\n",
        "    else:\n",
        "        return \"F\""
      ],
      "metadata": {
        "id": "Gej-13McIY5J"
      },
      "execution_count": 14,
      "outputs": []
    },
    {
      "cell_type": "code",
      "source": [
        "def dia_semana(numero):  # Con parámetro y con retorno\n",
        "    dias = [\"Lunes\", \"Martes\", \"Miércoles\", \"Jueves\", \"Viernes\", \"Sábado\", \"Domingo\"]\n",
        "    return dias[numero-1] if 1 <= numero <= 7 else \"Número inválido\""
      ],
      "metadata": {
        "id": "kDFd1glsIbyR"
      },
      "execution_count": 13,
      "outputs": []
    },
    {
      "cell_type": "code",
      "source": [
        "def validar_triangulo(l1, l2, l3):  # Con parámetros y con retorno\n",
        "    if l1 + l2 > l3 and l1 + l3 > l2 and l2 + l3 > l1:\n",
        "        return \"Es un triángulo\"\n",
        "    return \"No es un triángulo\""
      ],
      "metadata": {
        "id": "zPkP0KhQId4p"
      },
      "execution_count": 12,
      "outputs": []
    },
    {
      "cell_type": "code",
      "source": [
        "def tabla_multiplicar(n):  # Con parámetro y sin retorno\n",
        "    for i in range(1, 11):\n",
        "        print(f\"{n} x {i} = {n*i}\")"
      ],
      "metadata": {
        "id": "y6Hr1Y8YIf0p"
      },
      "execution_count": 11,
      "outputs": []
    },
    {
      "cell_type": "code",
      "source": [
        "def suma_naturales(n):  # Con parámetro y con retorno\n",
        "    return sum(range(1, n+1))"
      ],
      "metadata": {
        "id": "dZSuAvZxIhsp"
      },
      "execution_count": 10,
      "outputs": []
    },
    {
      "cell_type": "code",
      "source": [
        "def factorial(n):  # Con parámetro y con retorno\n",
        "    if n == 0 or n == 1:\n",
        "        return 1\n",
        "    resultado = 1\n",
        "    for i in range(2, n+1):\n",
        "        resultado *= i\n",
        "    return resultado"
      ],
      "metadata": {
        "id": "EbueqIFgIjtp"
      },
      "execution_count": 9,
      "outputs": []
    },
    {
      "cell_type": "code",
      "source": [
        "def fibonacci(n):  # Con parámetro y con retorno\n",
        "    secuencia = [0, 1]\n",
        "    for _ in range(2, n):\n",
        "        secuencia.append(secuencia[-1] + secuencia[-2])\n",
        "    return secuencia[:n]"
      ],
      "metadata": {
        "id": "fgqmudIhIlwJ"
      },
      "execution_count": 8,
      "outputs": []
    },
    {
      "cell_type": "code",
      "source": [
        "#20\n",
        "import random # Import the random module\n",
        "\n",
        "def obtener_colores():\n",
        "    \"\"\"Solicita al usuario que ingrese 10 colores y los devuelve en una lista.\"\"\"\n",
        "    colores = []\n",
        "    print(\"Introduce 10 colores:\")\n",
        "    for i in range(10):\n",
        "        color = input(f\"Color {i + 1}: \").strip().lower()\n",
        "        colores.append(color)\n",
        "    return colores\n",
        "\n",
        "def seleccionar_color_aleatorio(colores):\n",
        "    \"\"\"Selecciona un color aleatorio de la lista de colores.\"\"\"\n",
        "    return random.choice(colores)\n",
        "\n",
        "def adivinar_color(color_secreto, intentos_maximos=10):\n",
        "    \"\"\"Permite al usuario adivinar el color con un número máximo de intentos.\"\"\"\n",
        "    for intento in range(intentos_maximos):\n",
        "        intento_usuario = input(\"Adivina el color: \").strip().lower()\n",
        "\n",
        "        if intento_usuario == color_secreto:\n",
        "            print(f\"¡Felicidades! Has adivinado el color en {intento + 1} intentos.\")\n",
        "            return True\n",
        "        else:\n",
        "            print(\"Color incorrecto. Intenta de nuevo.\")\n",
        "\n",
        "    print(f\"Lo siento, has agotado tus {intentos_maximos} intentos. El color era '{color_secreto}'.\")\n",
        "    return False\n",
        "\n",
        "def juego():\n",
        "    \"\"\"Ejecuta el juego de adivinar el color.\"\"\"\n",
        "    colores = obtener_colores()\n",
        "    color_secreto = seleccionar_color_aleatorio(colores)\n",
        "    adivinar_color(color_secreto)\n",
        "\n",
        "if __name__ == \"__main__\":\n",
        "    juego()"
      ],
      "metadata": {
        "colab": {
          "base_uri": "https://localhost:8080/"
        },
        "id": "nrzIuwIeJrz5",
        "outputId": "a8a4b013-0a30-45e7-8ccb-705f01e4f2c6"
      },
      "execution_count": 7,
      "outputs": [
        {
          "output_type": "stream",
          "name": "stdout",
          "text": [
            "Introduce 10 colores:\n",
            "Color 1: Negro\n",
            "Color 2: Blanco \n",
            "Color 3: Beige \n",
            "Color 4: Verde \n",
            "Color 5: Vino tinto \n",
            "Color 6: Rosa \n",
            "Color 7: Azul \n",
            "Color 8: Amarillo \n",
            "Color 9: Lila \n",
            "Color 10: Naranja \n",
            "Adivina el color: Negro \n",
            "Color incorrecto. Intenta de nuevo.\n",
            "Adivina el color: Rosa \n",
            "Color incorrecto. Intenta de nuevo.\n",
            "Adivina el color: Vino tinto \n",
            "¡Felicidades! Has adivinado el color en 3 intentos.\n"
          ]
        }
      ]
    }
  ]
}