{
  "nbformat": 4,
  "nbformat_minor": 0,
  "metadata": {
    "colab": {
      "provenance": []
    },
    "kernelspec": {
      "name": "python3",
      "display_name": "Python 3"
    },
    "language_info": {
      "name": "python"
    }
  },
  "cells": [
    {
      "cell_type": "code",
      "execution_count": 2,
      "metadata": {
        "colab": {
          "base_uri": "https://localhost:8080/"
        },
        "id": "JFxYbmutxODC",
        "outputId": "22c05276-dbea-4ad0-829a-faf38ee74fdb"
      },
      "outputs": [
        {
          "output_type": "stream",
          "name": "stdout",
          "text": [
            "Ingrese el lado 1: 1\n",
            "Ingrese el lado 2: 2\n",
            "Ingrese el lado 3: 3\n",
            "No forman un triángulo\n"
          ]
        }
      ],
      "source": [
        "# 15. Validar si tres números pueden formar un triángulo y determinar su tipo\n",
        "def tipo_triangulo(lados):\n",
        "    a, b, c = sorted(lados)\n",
        "    if a + b > c:\n",
        "        if a == b == c:\n",
        "            return \"Equilátero\"\n",
        "        elif a == b or b == c:\n",
        "            return \"Isósceles\"\n",
        "        else:\n",
        "            return \"Escaleno\"\n",
        "    return \"No forman un triángulo\"\n",
        "\n",
        "lados = [int(input(f\"Ingrese el lado {i+1}: \")) for i in range(3)]\n",
        "print(tipo_triangulo(lados))"
      ]
    },
    {
      "cell_type": "code",
      "source": [
        "# 16. Tabla de multiplicar hasta 10\n",
        "num = int(input(\"Ingrese un número: \"))\n",
        "tabla = [num * i for i in range(1, 11)]\n",
        "print(tabla)"
      ],
      "metadata": {
        "colab": {
          "base_uri": "https://localhost:8080/"
        },
        "id": "y6ZAZ5XexTS0",
        "outputId": "87bcef93-76fd-44ea-830f-d613bed059d2"
      },
      "execution_count": 3,
      "outputs": [
        {
          "output_type": "stream",
          "name": "stdout",
          "text": [
            "Ingrese un número: 2\n",
            "[2, 4, 6, 8, 10, 12, 14, 16, 18, 20]\n"
          ]
        }
      ]
    },
    {
      "cell_type": "code",
      "source": [
        "# 17. Suma de números naturales hasta n\n",
        "n = int(input(\"Ingrese un número: \"))\n",
        "suma = sum([i for i in range(1, n + 1)])\n",
        "print(suma)"
      ],
      "metadata": {
        "colab": {
          "base_uri": "https://localhost:8080/"
        },
        "id": "c4DIjK-2xW9e",
        "outputId": "152c6d00-e1ca-4ee9-e308-a57fd8dad151"
      },
      "execution_count": 4,
      "outputs": [
        {
          "output_type": "stream",
          "name": "stdout",
          "text": [
            "Ingrese un número: 5\n",
            "15\n"
          ]
        }
      ]
    },
    {
      "cell_type": "code",
      "source": [
        "# 18. Factorial de un número\n",
        "n = int(input(\"Ingrese un número: \"))\n",
        "factorial = 1 if n == 0 else [factorial := factorial * i for i in range(1, n + 1)][-1]\n",
        "print(factorial)"
      ],
      "metadata": {
        "colab": {
          "base_uri": "https://localhost:8080/"
        },
        "id": "RV72swSFxZuE",
        "outputId": "d2fdbe07-cae4-40b3-ad41-4aa91a8161d6"
      },
      "execution_count": 7,
      "outputs": [
        {
          "output_type": "stream",
          "name": "stdout",
          "text": [
            "Ingrese un número: 0\n",
            "1\n"
          ]
        }
      ]
    },
    {
      "cell_type": "code",
      "source": [
        "# 19. Primeros n números de Fibonacci\n",
        "n = int(input(\"Ingrese la cantidad de números de Fibonacci: \"))\n",
        "fibonacci = [0, 1] + [sum(fibonacci[-2:]) for _ in range(n - 2)]\n",
        "print(fibonacci[:n])"
      ],
      "metadata": {
        "colab": {
          "base_uri": "https://localhost:8080/"
        },
        "id": "vtU_AD6RxhQK",
        "outputId": "35cc67f4-7deb-4297-bbe0-32dd64c2cda4"
      },
      "execution_count": 8,
      "outputs": [
        {
          "output_type": "stream",
          "name": "stdout",
          "text": [
            "Ingrese la cantidad de números de Fibonacci: 2\n",
            "[0, 1]\n"
          ]
        }
      ]
    },
    {
      "cell_type": "code",
      "source": [
        "20#\n",
        "import random\n",
        "\n",
        "# Lista de colores definidos\n",
        "colores = [\"rojo\", \"azul\", \"verde\", \"amarillo\", \"negro\", \"blanco\", \"morado\", \"naranja\", \"gris\", \"rosa\"]\n",
        "color_secreto = random.choice(colores)\n",
        "\n",
        "# Intentos del usuario\n",
        "for i in range(10):\n",
        "    intento = input(f\"Intento {i+1}/10 - Adivina el color: \").strip().lower()\n",
        "    if intento == color_secreto:\n",
        "        print(\"¡Adivinaste el color!\")\n",
        "        break\n",
        "else:\n",
        "    print(f\"Perdiste, el color era {color_secreto}\")"
      ],
      "metadata": {
        "colab": {
          "base_uri": "https://localhost:8080/"
        },
        "id": "RntdEdIZxjUZ",
        "outputId": "e133ba82-dfd1-4946-b086-df8f8e42746d"
      },
      "execution_count": 15,
      "outputs": [
        {
          "output_type": "stream",
          "name": "stdout",
          "text": [
            "Intento 1/10 - Adivina el color: negro\n",
            "¡Adivinaste el color!\n"
          ]
        }
      ]
    },
    {
      "cell_type": "code",
      "source": [
        "# 21. Mostrar números pares del 1 al 100\n",
        "pares = [i for i in range(1, 101) if i % 2 == 0]\n",
        "print(pares)"
      ],
      "metadata": {
        "colab": {
          "base_uri": "https://localhost:8080/"
        },
        "id": "WJwXWOamxoGH",
        "outputId": "10e67189-dcf2-4828-e786-09e4565d6b9d"
      },
      "execution_count": 17,
      "outputs": [
        {
          "output_type": "stream",
          "name": "stdout",
          "text": [
            "[2, 4, 6, 8, 10, 12, 14, 16, 18, 20, 22, 24, 26, 28, 30, 32, 34, 36, 38, 40, 42, 44, 46, 48, 50, 52, 54, 56, 58, 60, 62, 64, 66, 68, 70, 72, 74, 76, 78, 80, 82, 84, 86, 88, 90, 92, 94, 96, 98, 100]\n"
          ]
        }
      ]
    },
    {
      "cell_type": "code",
      "source": [
        "# 22. Suma de los dígitos de un número\n",
        "num = input(\"Ingrese un número: \")\n",
        "suma_digitos = sum([int(d) for d in num])\n",
        "print(suma_digitos)"
      ],
      "metadata": {
        "colab": {
          "base_uri": "https://localhost:8080/"
        },
        "id": "LjXct8moxqzY",
        "outputId": "08cf649e-6067-496e-af25-bb3ad9f3bd21"
      },
      "execution_count": 18,
      "outputs": [
        {
          "output_type": "stream",
          "name": "stdout",
          "text": [
            "Ingrese un número: 2\n",
            "2\n"
          ]
        }
      ]
    },
    {
      "cell_type": "code",
      "source": [
        "# 23. Determinar si un número es primo\n",
        "num = int(input(\"Ingrese un número: \"))\n",
        "es_primo = all(num % i != 0 for i in range(2, int(num ** 0.5) + 1)) and num > 1\n",
        "print(\"Es primo\" if es_primo else \"No es primo\")"
      ],
      "metadata": {
        "colab": {
          "base_uri": "https://localhost:8080/"
        },
        "id": "7L4jQX6ext2g",
        "outputId": "b8bc6ef4-5fe4-44f1-f1df-16c27d762dc1"
      },
      "execution_count": 19,
      "outputs": [
        {
          "output_type": "stream",
          "name": "stdout",
          "text": [
            "Ingrese un número: 5\n",
            "Es primo\n"
          ]
        }
      ]
    },
    {
      "cell_type": "code",
      "source": [
        "# 24. Patrón de triángulo con asteriscos\n",
        "n = int(input(\"Ingrese la altura del triángulo: \"))\n",
        "triangulo = [\"*\" * i for i in range(1, n + 1)]\n",
        "print(\"\\n\".join(triangulo))"
      ],
      "metadata": {
        "colab": {
          "base_uri": "https://localhost:8080/"
        },
        "id": "agyqs3-zxv7O",
        "outputId": "1cd06b28-1361-4969-ed7e-829ffb75f14d"
      },
      "execution_count": 20,
      "outputs": [
        {
          "output_type": "stream",
          "name": "stdout",
          "text": [
            "Ingrese la altura del triángulo: 12\n",
            "*\n",
            "**\n",
            "***\n",
            "****\n",
            "*****\n",
            "******\n",
            "*******\n",
            "********\n",
            "*********\n",
            "**********\n",
            "***********\n",
            "************\n"
          ]
        }
      ]
    },
    {
      "cell_type": "code",
      "source": [
        "# 25. Calcular potencia sin usar ** (exponente)\n",
        "base, exp = map(int, input(\"Ingrese base y exponente separados por espacio: \").split())\n",
        "potencia = 1 if exp == 0 else [potencia := potencia * base for _ in range(abs(exp))][-1]\n",
        "potencia = 1 / potencia if exp < 0 else potencia\n",
        "print(potencia)"
      ],
      "metadata": {
        "id": "j0mA8eo8xyrm"
      },
      "execution_count": null,
      "outputs": []
    }
  ]
}